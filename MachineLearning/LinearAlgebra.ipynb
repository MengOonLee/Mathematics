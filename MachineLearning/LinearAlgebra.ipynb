{
 "cells": [
  {
   "cell_type": "markdown",
   "id": "73ea4fa6-d178-4c61-8266-a73a9d36d751",
   "metadata": {},
   "source": [
    "# Linear Algebra"
   ]
  },
  {
   "cell_type": "markdown",
   "id": "60a05a89-8fe5-458a-82a1-a27982f33088",
   "metadata": {},
   "source": [
    "## Gaussian distribution\n",
    "\n",
    "\\begin{equation}\n",
    "f(x) = \\frac{1}{\\sigma \\sqrt{2 \\pi}} e^\\frac{-(x - \\mu)^2}{2 \\sigma^2}\n",
    "\\end{equation}\n",
    "\n",
    "\\begin{equation}\n",
    "\\mathbf{p} = \n",
    "  \\begin{bmatrix}\n",
    "    \\mu \\\\\n",
    "    \\sigma\n",
    "  \\end{bmatrix}\n",
    "\\end{equation}"
   ]
  },
  {
   "cell_type": "markdown",
   "id": "6cfd1ea4-794d-4587-b0fa-2843b8c6864e",
   "metadata": {},
   "source": [
    "## Sum of Squared Residuals, SSR\n",
    "\n",
    "\\begin{equation}\n",
    "\\textbf{SSR} \\left( \\mathbf{p} \\right) = \\left| \\mathbf{f} - \\mathbf{g_p} \\right|^2\n",
    "\\end{equation}"
   ]
  },
  {
   "cell_type": "code",
   "execution_count": null,
   "id": "5814807e-0335-4d30-b487-01e2ec306bff",
   "metadata": {},
   "outputs": [],
   "source": []
  },
  {
   "cell_type": "code",
   "execution_count": null,
   "id": "c83e94dc-429e-42f7-ad77-1b505bf171e6",
   "metadata": {},
   "outputs": [],
   "source": []
  }
 ],
 "metadata": {
  "kernelspec": {
   "display_name": "venv",
   "language": "python",
   "name": "venv"
  },
  "language_info": {
   "codemirror_mode": {
    "name": "ipython",
    "version": 3
   },
   "file_extension": ".py",
   "mimetype": "text/x-python",
   "name": "python",
   "nbconvert_exporter": "python",
   "pygments_lexer": "ipython3",
   "version": "3.8.10"
  }
 },
 "nbformat": 4,
 "nbformat_minor": 5
}
