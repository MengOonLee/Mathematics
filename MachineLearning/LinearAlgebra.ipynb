{
 "cells": [
  {
   "cell_type": "markdown",
   "id": "73ea4fa6-d178-4c61-8266-a73a9d36d751",
   "metadata": {},
   "source": [
    "# Linear Algebra"
   ]
  },
  {
   "cell_type": "markdown",
   "id": "60a05a89-8fe5-458a-82a1-a27982f33088",
   "metadata": {},
   "source": [
    "## Gaussian distribution\n",
    "\n",
    "\\begin{equation}\n",
    "f(x) = \\frac{1}{\\sigma \\sqrt{2 \\pi}} e^\\frac{-(x - \\mu)^2}{2 \\sigma^2}\n",
    "\\end{equation}\n",
    "\n",
    "\\begin{equation}\n",
    "\\mathbf{p} = \n",
    "  \\begin{bmatrix}\n",
    "    \\mu \\\\\n",
    "    \\sigma\n",
    "  \\end{bmatrix}\n",
    "\\end{equation}"
   ]
  },
  {
   "cell_type": "markdown",
   "id": "6cfd1ea4-794d-4587-b0fa-2843b8c6864e",
   "metadata": {},
   "source": [
    "## Sum of Squared Residuals, SSR\n",
    "\n",
    "\\begin{equation}\n",
    "\\textbf{SSR} \\left( \\mathbf{p} \\right) = \\left| \\mathbf{f} - \\mathbf{g_p} \\right|^2\n",
    "\\end{equation}"
   ]
  },
  {
   "cell_type": "markdown",
   "id": "49de9f4d-8801-427a-a225-56cdc35d424c",
   "metadata": {},
   "source": [
    "### Solving linear equation using the inverse Matrix"
   ]
  },
  {
   "cell_type": "code",
   "execution_count": 3,
   "id": "c83e94dc-429e-42f7-ad77-1b505bf171e6",
   "metadata": {},
   "outputs": [
    {
     "name": "stdout",
     "output_type": "stream",
     "text": [
      "[[-3.14285714  4.42857143  0.14285714]\n",
      " [ 2.64285714 -3.42857143 -0.14285714]\n",
      " [-1.14285714  1.42857143  0.14285714]]\n",
      "[ 3.  -0.5  0. ]\n"
     ]
    }
   ],
   "source": [
    "import numpy as np\n",
    "\n",
    "A = [\n",
    "    [4, 6, 2],\n",
    "    [3, 4, 1],\n",
    "    [2, 8, 13]\n",
    "]\n",
    "Ainv = np.linalg.inv(A)\n",
    "print(Ainv)\n",
    "\n",
    "s = [9, 7, 2]\n",
    "\n",
    "r = np.linalg.solve(A, s)\n",
    "print(r)"
   ]
  },
  {
   "cell_type": "markdown",
   "id": "1d9340dc-c343-4d24-a81d-30de36e0b7c9",
   "metadata": {},
   "source": [
    "## Eigenvalues & Eigenvectors"
   ]
  },
  {
   "cell_type": "code",
   "execution_count": 1,
   "id": "e640a81c-4de0-4773-9f95-dee497fc4e41",
   "metadata": {},
   "outputs": [
    {
     "name": "stdout",
     "output_type": "stream",
     "text": [
      "Eigenvalues:\n",
      " [1. 2. 3.]\n",
      "Eigenvectors:\n",
      " [[1. 0. 0.]\n",
      " [0. 1. 0.]\n",
      " [0. 0. 1.]]\n"
     ]
    }
   ],
   "source": [
    "import numpy as np\n",
    "\n",
    "M = np.array([\n",
    "    [1, 0, 0],\n",
    "    [0, 2, 0],\n",
    "    [0, 0, 3]\n",
    "])\n",
    "vals, vecs = np.linalg.eig(M)\n",
    "# Eigenvalues\n",
    "print('Eigenvalues:\\n', vals)\n",
    "# Eigenvectors - Note, the eigenvectors are the columns of the output.\n",
    "print('Eigenvectors:\\n', vecs)"
   ]
  },
  {
   "cell_type": "code",
   "execution_count": 2,
   "id": "92c0fe46-cfcf-4490-bf75-118eb04293a4",
   "metadata": {},
   "outputs": [
    {
     "name": "stdout",
     "output_type": "stream",
     "text": [
      "Eigenvalues:\n",
      " [ 1. -4. -3.]\n",
      "Eigenvectors:\n",
      " [[-0.6882472  -0.66666667  0.40824829]\n",
      " [-0.6882472  -0.66666667 -0.40824829]\n",
      " [-0.22941573  0.33333333 -0.81649658]]\n"
     ]
    }
   ],
   "source": [
    "import numpy as np\n",
    "\n",
    "M = np.array([\n",
    "    [  4,   -5,  6],\n",
    "    [  7,   -8,  6],\n",
    "    [3/2, -1/2, -2]\n",
    "])\n",
    "vals, vecs = np.linalg.eig(M)\n",
    "# Eigenvalues\n",
    "print('Eigenvalues:\\n', vals)\n",
    "# Eigenvectors - Note, the eigenvectors are the columns of the output.\n",
    "print('Eigenvectors:\\n', vecs)"
   ]
  },
  {
   "cell_type": "code",
   "execution_count": 14,
   "id": "26ca192e-b022-4295-98da-3fc202c04777",
   "metadata": {},
   "outputs": [
    {
     "name": "stdout",
     "output_type": "stream",
     "text": [
      "Eigenvalues:\n",
      " [-1.00000000e+00+0.j  8.32667268e-17+1.j  8.32667268e-17-1.j\n",
      "  1.00000000e+00+0.j]\n",
      "Eigenvectors:\n",
      " [[ 5.00000000e-01+0.00000000e+00j  2.63941871e-16-5.00000000e-01j\n",
      "   2.63941871e-16+5.00000000e-01j  5.00000000e-01+0.00000000e+00j]\n",
      " [-5.00000000e-01+0.00000000e+00j -5.00000000e-01+0.00000000e+00j\n",
      "  -5.00000000e-01-0.00000000e+00j  5.00000000e-01+0.00000000e+00j]\n",
      " [ 5.00000000e-01+0.00000000e+00j -2.85804968e-18+5.00000000e-01j\n",
      "  -2.85804968e-18-5.00000000e-01j  5.00000000e-01+0.00000000e+00j]\n",
      " [-5.00000000e-01+0.00000000e+00j  5.00000000e-01-1.34144886e-16j\n",
      "   5.00000000e-01+1.34144886e-16j  5.00000000e-01+0.00000000e+00j]]\n"
     ]
    }
   ],
   "source": [
    "import numpy as np\n",
    "\n",
    "L = np.array([\n",
    "    [0, 0, 0, 1],\n",
    "    [1, 0, 0, 0],\n",
    "    [0, 1, 0, 0],\n",
    "    [0, 0, 1, 0]\n",
    "])\n",
    "vals, vecs = np.linalg.eig(L)\n",
    "# Eigenvalues\n",
    "print('Eigenvalues:\\n', vals)\n",
    "# Eigenvectors - Note, the eigenvectors are the columns of the output.\n",
    "print('Eigenvectors:\\n', vecs)"
   ]
  },
  {
   "cell_type": "code",
   "execution_count": 15,
   "id": "531c31c3-44ca-4ad8-baf6-98cf7b0ce04a",
   "metadata": {},
   "outputs": [
    {
     "name": "stdout",
     "output_type": "stream",
     "text": [
      "Eigenvalues:\n",
      " [ 1.0000000e+00+0.j  -6.0000000e-01+0.j  -1.2490009e-16+0.6j\n",
      " -1.2490009e-16-0.6j]\n",
      "Eigenvectors:\n",
      " [[ 5.00000000e-01+0.00000000e+00j  5.00000000e-01+0.00000000e+00j\n",
      "   5.00000000e-01+0.00000000e+00j  5.00000000e-01-0.00000000e+00j]\n",
      " [ 5.00000000e-01+0.00000000e+00j -5.00000000e-01+0.00000000e+00j\n",
      "   4.35081013e-18-5.00000000e-01j  4.35081013e-18+5.00000000e-01j]\n",
      " [ 5.00000000e-01+0.00000000e+00j  5.00000000e-01+0.00000000e+00j\n",
      "  -5.00000000e-01+6.46083779e-17j -5.00000000e-01-6.46083779e-17j]\n",
      " [ 5.00000000e-01+0.00000000e+00j -5.00000000e-01+0.00000000e+00j\n",
      "  -2.15906071e-17+5.00000000e-01j -2.15906071e-17-5.00000000e-01j]]\n"
     ]
    }
   ],
   "source": [
    "import numpy as np\n",
    "\n",
    "L = np.array([\n",
    "    [0.1, 0.1, 0.1, 0.7],\n",
    "    [0.7, 0.1, 0.1, 0.1],\n",
    "    [0.1, 0.7, 0.1, 0.1],\n",
    "    [0.1, 0.1, 0.7, 0.1]\n",
    "])\n",
    "vals, vecs = np.linalg.eig(L)\n",
    "# Eigenvalues\n",
    "print('Eigenvalues:\\n', vals)\n",
    "# Eigenvectors - Note, the eigenvectors are the columns of the output.\n",
    "print('Eigenvectors:\\n', vecs)"
   ]
  },
  {
   "cell_type": "code",
   "execution_count": 16,
   "id": "1325ceda-275a-4bed-8126-fc77ce46ecd2",
   "metadata": {},
   "outputs": [
    {
     "name": "stdout",
     "output_type": "stream",
     "text": [
      "Eigenvalues:\n",
      " [ 1. -1.]\n",
      "Eigenvectors:\n",
      " [[ 0.70710678 -0.70710678]\n",
      " [ 0.70710678  0.70710678]]\n"
     ]
    }
   ],
   "source": [
    "import numpy as np\n",
    "\n",
    "A = np.array([\n",
    "    [0, 1],\n",
    "    [1, 0]\n",
    "])\n",
    "vals, vecs = np.linalg.eig(A)\n",
    "# Eigenvalues\n",
    "print('Eigenvalues:\\n', vals)\n",
    "# Eigenvectors - Note, the eigenvectors are the columns of the output.\n",
    "print('Eigenvectors:\\n', vecs)"
   ]
  },
  {
   "cell_type": "code",
   "execution_count": 17,
   "id": "f75bd085-e0cd-43e6-870b-2c010b4a14dc",
   "metadata": {},
   "outputs": [
    {
     "name": "stdout",
     "output_type": "stream",
     "text": [
      "Eigenvalues:\n",
      " [1.8660254 0.1339746]\n",
      "Eigenvectors:\n",
      " [[ 0.9390708   0.59069049]\n",
      " [-0.34372377  0.80689822]]\n"
     ]
    }
   ],
   "source": [
    "import numpy as np\n",
    "\n",
    "A = np.array([\n",
    "    [3/2, -1],\n",
    "    [-1/2, 1/2]\n",
    "])\n",
    "vals, vecs = np.linalg.eig(A)\n",
    "# Eigenvalues\n",
    "print('Eigenvalues:\\n', vals)\n",
    "# Eigenvectors - Note, the eigenvectors are the columns of the output.\n",
    "print('Eigenvectors:\\n', vecs)"
   ]
  }
 ],
 "metadata": {
  "kernelspec": {
   "display_name": "venv",
   "language": "python",
   "name": "venv"
  },
  "language_info": {
   "codemirror_mode": {
    "name": "ipython",
    "version": 3
   },
   "file_extension": ".py",
   "mimetype": "text/x-python",
   "name": "python",
   "nbconvert_exporter": "python",
   "pygments_lexer": "ipython3",
   "version": "3.8.10"
  }
 },
 "nbformat": 4,
 "nbformat_minor": 5
}
